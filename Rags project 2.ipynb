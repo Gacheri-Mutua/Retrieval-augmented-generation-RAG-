{
 "cells": [
  {
   "cell_type": "code",
   "execution_count": null,
   "id": "0bfe2d54",
   "metadata": {},
   "outputs": [],
   "source": [
    "import os\n",
    "os.environ[\"USER_AGENT\"] = \"Mozilla/5.0 (Windows NT 10.0; Win64; x64) AppleWebKit/537.36 \" \"(KHTML, like Gecko) Chrome/140.0.0.0 Safari/537.36\"\n",
    "os.environ[\"GROQ_API_KEY\"] = groq_api\n"
   ]
  },
  {
   "cell_type": "code",
   "execution_count": 2,
   "id": "2fcc7c1a",
   "metadata": {},
   "outputs": [],
   "source": [
    "import os\n",
    "from langchain_community.document_loaders import TextLoader, WebBaseLoader, PDFMinerLoader\n",
    "from langchain.text_splitter import MarkdownHeaderTextSplitter, RecursiveCharacterTextSplitter\n",
    "from langchain.docstore.document import Document\n",
    "from langchain_community.vectorstores import SKLearnVectorStore\n",
    "from langchain.vectorstores import Chroma\n",
    "from groq import Groq\n",
    "from langchain.chains.combine_documents.map_reduce import MapReduceDocumentsChain\n",
    "from langchain import LLMChain\n",
    "from langchain_groq import ChatGroq\n",
    "from langchain.chains import RetrievalQA\n",
    "from langchain.prompts import PromptTemplate\n",
    "from langchain_core.output_parsers import StrOutputParser\n",
    "from langchain.embeddings import HuggingFaceEmbeddings\n",
    "import requests\n",
    "import re\n",
    "import gradio as gr"
   ]
  },
  {
   "cell_type": "code",
   "execution_count": 3,
   "id": "424e5ef9",
   "metadata": {},
   "outputs": [],
   "source": [
    "url = \"https://www.parliament.go.ke/sites/default/files/2017-05/The_Constitution_of_Kenya_2010.pdf\"\n",
    "r = requests.get(url)\n",
    "with open(\"constitution.pdf\", \"wb\") as f:\n",
    "    f.write(r.content)\n",
    "    \n",
    "loader = PDFMinerLoader(\"constitution.pdf\")\n",
    "docs_list = loader.load()"
   ]
  },
  {
   "cell_type": "code",
   "execution_count": 4,
   "id": "ca03f699",
   "metadata": {},
   "outputs": [],
   "source": [
    "text_splitter = RecursiveCharacterTextSplitter.from_tiktoken_encoder(\n",
    "    chunk_size=1500,\n",
    "    chunk_overlap=500,\n",
    "    separators=[\"ARTICLE\", \"CHAPTER\", \"\\n\\n\"])\n",
    "\n",
    "splits = text_splitter.split_documents(docs_list)"
   ]
  },
  {
   "cell_type": "code",
   "execution_count": 5,
   "id": "cca8139c",
   "metadata": {},
   "outputs": [
    {
     "name": "stdout",
     "output_type": "stream",
     "text": [
      "107\n"
     ]
    }
   ],
   "source": [
    "print(len(splits))"
   ]
  },
  {
   "cell_type": "code",
   "execution_count": 6,
   "id": "02faf934",
   "metadata": {},
   "outputs": [
    {
     "name": "stdout",
     "output_type": "stream",
     "text": [
      "page_content='LAWS OF KENYA\n",
      "\n",
      "THE CONSTITUTION OF KENYA, 2010\n",
      "\n",
      "Published by the National Council for Law Reporting\n",
      "with the Authority of the Attorney-General\n",
      "\n",
      "www.kenyalaw.org\n",
      "\fConstitution of Kenya, 2010\n",
      "\n",
      "THE CONSTITUTION OF KENYA, 2010\n",
      "\n",
      "ARRANGEMENT OF' metadata={'producer': 'LibreOffice 3.6', 'creator': 'Writer', 'creationdate': '2013-02-28T17:50:04+03:00', 'title': 'Rev. 2010]', 'author': 'Andare Jeffrey', 'total_pages': 193, 'source': 'constitution.pdf'}\n",
      "page_content='ARTICLES\n",
      "\n",
      "PREAMBLE\n",
      "\n",
      "CHAPTER ONE—SOVEREIGNTY OF THE PEOPLE AND \n",
      "\n",
      "SUPREMACY OF THIS CONSTITUTION\n",
      "\n",
      "1—Sovereignty of the people.\n",
      "2—Supremacy of this Constitution.\n",
      "3—Defence of this Constitution.\n",
      "\n",
      "CHAPTER TWO—THE REPUBLIC\n",
      "\n",
      "4—Declaration of the Republic.\n",
      "5—Territory of Kenya.\n",
      "6—Devolution and access to services.\n",
      "7—National, official and other languages.\n",
      "8—State and religion.\n",
      "9—National symbols and national days.\n",
      "10—National values and principles of governance.\n",
      "11—Culture.\n",
      "\n",
      "CHAPTER THREE—CITIZENSHIP\n",
      "\n",
      "12—Entitlements of citizens.\n",
      "13—Retention and acquisition of citizenship.\n",
      "14—Citizenship by birth.\n",
      "15—Citizenship by registration.\n",
      "16—Dual citizenship.\n",
      "17—Revocation of citizenship.\n",
      "18—Legislation on citizenship.\n",
      "\n",
      "CHAPTER FOUR—THE BILL OF RIGHTS\n",
      "\n",
      "PART 1—GENERAL PROVISIONS RELATING TO THE BILL OF RIGHTS\n",
      "\n",
      "19—Rights and fundamental freedoms.\n",
      "20—Application of Bill of Rights.\n",
      "21—Implementation of rights and fundamental freedoms.\n",
      "22—Enforcement of Bill of Rights.\n",
      "23—Authority of courts to uphold and enforce the  Bill of Rights.\n",
      "24—Limitation of rights or fundamental freedoms.\n",
      "25— Fundamental Rights and freedoms that may not be limited.\n",
      "\fConstitution of Kenya, 2010\n",
      "\n",
      "3\n",
      "\n",
      "PART 2—RIGHTS AND FUNDAMENTAL FREEDOMS\n",
      "\n",
      "26—Right to life.\n",
      "27—Equality and freedom from discrimination.\n",
      "28—Human dignity.\n",
      "29—Freedom and security of the person.\n",
      "30—Slavery, servitude and forced labour.\n",
      "31—Privacy.\n",
      "32—Freedom of conscience, religion, belief and opinion.\n",
      "33—Freedom of expression.\n",
      "34—Freedom of the media.\n",
      "35—Access to information.\n",
      "36—Freedom of association.\n",
      "37—Assembly, demonstration, picketing and petition.\n",
      "38—Political rights.\n",
      "39—Freedom of movement and residence.\n",
      "40—Protection of right to property.\n",
      "41—Labour relations.\n",
      "42—Environment.\n",
      "43—Economic and social rights.\n",
      "44—Language and culture.\n",
      "45—Family.\n",
      "46—Consumer rights.\n",
      "47—Fair administrative action.\n",
      "48—Access to justice.\n",
      "49—Rights of arrested persons.\n",
      "50—Fair hearing.\n",
      "51—Rights of persons detained, held in custody or imprisoned.\n",
      "\n",
      "PART 3—SPECIFIC APPLICATION OF RIGHTS\n",
      "\n",
      "52—Interpretation of Part.\n",
      "53—Children.\n",
      "54—Persons with disabilities.\n",
      "55—Youth.\n",
      "56—Minorities and marginalised groups.\n",
      "57—Older members of society.\n",
      "\n",
      "PART 4—STATE OF EMERGENCY\n",
      "\n",
      "58—State of emergency.\n",
      "\n",
      "PART 5—KENYA NATIONAL HUMAN RIGHTS AND EQUALITY COMMISSION\n",
      "\n",
      "59—Kenya National Human Rights and Equality Commission.\n",
      "\fConstitution of Kenya, 2010\n",
      "\n",
      "CHAPTER FIVE—LAND AND ENVIRONMENT\n",
      "\n",
      "PART 1—LAND\n",
      "\n",
      "60—Principles of land policy.\n",
      "61—Classification of land.\n",
      "62—Public land.\n",
      "63—Community land.\n",
      "64—Private land.\n",
      "65—Landholding by non-citizens.\n",
      "66—Regulation of land use and property.\n",
      "67—National Land Commission.\n",
      "68—Legislation on land.\n",
      "\n",
      "PART 2— ENVIRONMENT AND NATURAL RESOURCES\n",
      "\n",
      "69—Obligations in respect of the environment.\n",
      "70—Enforcement of environmental rights.\n",
      "71—Agreements relating to natural resources.\n",
      "72—Legislation relating to the environment.\n",
      "\n",
      "CHAPTER SIX—LEADERSHIP AND INTEGRITY\n",
      "\n",
      "73—Responsibilities of leadership.\n",
      "74—Oath of office of State officers.\n",
      "75—Conduct of State officers.\n",
      "76—Financial probity of State officers.\n",
      "77—Restriction on activities of State officers.\n",
      "78—Citizenship and leadership.\n",
      "79—Legislation to establish the ethics and anti-corruption commission.\n",
      "80—Legislation on leadership.\n",
      "\n",
      "CHAPTER SEVEN—REPRESENTATION OF THE PEOPLE\n",
      "\n",
      "PART 1—ELECTORAL SYSTEM AND PROCESS\n",
      "\n",
      "81—General principles for the electoral system.\n",
      "82—Legislation on elections.\n",
      "83—Registration as a voter.\n",
      "84—Candidates for election and political parties to comply with code of \n",
      "        conduct.\n",
      "85—Eligibility to stand as an independent candidate.\n",
      "86—Voting.\n",
      "87—Electoral disputes.\n",
      "\n",
      "PART 2—INDEPENDENT ELECTORAL AND BOUNDARIES COMMISSION AND \n",
      "DELIMITATION OF ELECTORAL UNITS\n",
      "\n",
      "88—Independent Electoral and Boundaries Commission.\n",
      "89—Delimitation of electoral units.\n",
      "90—Allocation of party list seats.\n",
      "\n",
      "PART 3—POLITICAL PARTIES\n",
      "\fConstitution of Kenya, 2010\n",
      "\n",
      "5\n",
      "\n",
      "91—Basic requirements for political parties.\n",
      "92—Legislation on political parties.' metadata={'producer': 'LibreOffice 3.6', 'creator': 'Writer', 'creationdate': '2013-02-28T17:50:04+03:00', 'title': 'Rev. 2010]', 'author': 'Andare Jeffrey', 'total_pages': 193, 'source': 'constitution.pdf'}\n"
     ]
    }
   ],
   "source": [
    "print(splits[0])\n",
    "print(splits[1])"
   ]
  },
  {
   "cell_type": "code",
   "execution_count": 7,
   "id": "3aa8abb8",
   "metadata": {},
   "outputs": [
    {
     "name": "stderr",
     "output_type": "stream",
     "text": [
      "C:\\Users\\Admin\\AppData\\Local\\Temp\\ipykernel_16076\\1653097174.py:2: LangChainDeprecationWarning: The class `HuggingFaceEmbeddings` was deprecated in LangChain 0.2.2 and will be removed in 1.0. An updated version of the class exists in the :class:`~langchain-huggingface package and should be used instead. To use it run `pip install -U :class:`~langchain-huggingface` and import as `from :class:`~langchain_huggingface import HuggingFaceEmbeddings``.\n",
      "  embeddings = HuggingFaceEmbeddings(model_name=\"all-MiniLM-L6-v2\")\n",
      "C:\\Users\\Admin\\AppData\\Local\\Temp\\ipykernel_16076\\1653097174.py:3: LangChainDeprecationWarning: The class `Chroma` was deprecated in LangChain 0.2.9 and will be removed in 1.0. An updated version of the class exists in the :class:`~langchain-chroma package and should be used instead. To use it run `pip install -U :class:`~langchain-chroma` and import as `from :class:`~langchain_chroma import Chroma``.\n",
      "  vectorstore = Chroma(\n"
     ]
    }
   ],
   "source": [
    "#Embedding the documents and storing  them in a vector store\n",
    "embeddings = HuggingFaceEmbeddings(model_name=\"all-MiniLM-L6-v2\")\n",
    "vectorstore = Chroma(\n",
    "    persist_directory=\"constitution_index\",\n",
    "    embedding_function=embeddings\n",
    ")\n",
    "\n",
    "retriever = vectorstore.as_retriever(search_kwargs={\"k\": 3})"
   ]
  },
  {
   "cell_type": "code",
   "execution_count": 8,
   "id": "6913542c",
   "metadata": {},
   "outputs": [],
   "source": [
    "llm = ChatGroq(\n",
    "        model=\"llama-3.1-8b-instant\",  \n",
    "         max_tokens=500)"
   ]
  },
  {
   "cell_type": "code",
   "execution_count": 9,
   "id": "8c22bbe4",
   "metadata": {},
   "outputs": [],
   "source": [
    "prompt = PromptTemplate(\n",
    "    template=\"\"\"You are an assistant for question-answering Kenyan constitution tasks.\n",
    "Use the following documents to answer the question.\n",
    "If you don't know the answer, just say that you don't know.\n",
    "Question: {question}\n",
    "Documents: {documents}\n",
    "Answer:\n",
    "\"\"\",\n",
    "input_variables=[\"question\", \"documents\"]\n",
    ")"
   ]
  },
  {
   "cell_type": "code",
   "execution_count": 10,
   "id": "5a6e439b",
   "metadata": {},
   "outputs": [],
   "source": [
    "rag_chain = prompt | llm | StrOutputParser()"
   ]
  },
  {
   "cell_type": "code",
   "execution_count": 11,
   "id": "c48e996d",
   "metadata": {},
   "outputs": [],
   "source": [
    "# Define the RAG application class\n",
    "class RAGApplication:\n",
    "    def __init__(self, retriever, rag_chain):\n",
    "        self.retriever = retriever\n",
    "        self.rag_chain = rag_chain\n",
    "\n",
    "    def run(self, question):\n",
    "        documents = self.retriever.invoke(question)\n",
    "        doc_texts = \"\\n\".join([doc.page_content for doc in documents])\n",
    "        \n",
    "        # Get the answer from the LLM\n",
    "        answer = self.rag_chain.invoke({\"question\": question, \"documents\": doc_texts})\n",
    "        return answer"
   ]
  },
  {
   "cell_type": "code",
   "execution_count": 12,
   "id": "1de12eae",
   "metadata": {},
   "outputs": [
    {
     "name": "stdout",
     "output_type": "stream",
     "text": [
      "Answer: According to Article 98 of the Kenyan Constitution, the Senate has the following duties:\n",
      "\n",
      "- To represent the interests of the counties and their governments\n",
      "- To represent the interests of the people of Kenya in the National Assembly, and\n",
      "- To consider and approve Bills related to counties and national government revenue allocations\n",
      "\n",
      "However, it's worth noting that Article 98 of the Constitution also gives the Senate some additional duties including, but not limited to:\n",
      "- To protect the rights and interests of the people of Kenya\n",
      "- To promote the economic and social development of the counties and the people of Kenya\n",
      "- To oversee the national government's expenditure and revenue collection\n",
      "- To consider and approve presidential appointments to certain positions.\n",
      "- To have a right of initiative, that is, to introduce Bills in the Senate.\n",
      "\n",
      "These duties are outlined in the Constitution to ensure that the Senate plays a significant role in the governance of Kenya.\n"
     ]
    }
   ],
   "source": [
    "rag_app = RAGApplication(retriever, rag_chain)\n",
    "\n",
    "question = \"What is the duty of the senate?\"\n",
    "answer = rag_app.run(question)\n",
    "\n",
    "print(\"Answer:\", answer)"
   ]
  },
  {
   "cell_type": "code",
   "execution_count": 13,
   "id": "4d80f0ba",
   "metadata": {},
   "outputs": [],
   "source": [
    "def ask(question):\n",
    "    answer = rag_app.run(question)\n",
    "    print(\"Answer:\", answer)"
   ]
  },
  {
   "cell_type": "code",
   "execution_count": 14,
   "id": "b7b91290",
   "metadata": {},
   "outputs": [
    {
     "name": "stdout",
     "output_type": "stream",
     "text": [
      "Answer: According to Article 14 of the Constitution of Kenya, 2010, a Kenyan citizen can lose or have their citizenship revoked under the following circumstances:\n",
      "\n",
      "1. Voluntary renunciation: A Kenyan citizen can renounce their citizenship voluntarily as provided for in Article 14(1).\n",
      "2. By operation of the law: A Kenyan citizen can lose their citizenship by operation of the law, including by making a false declaration or statement with the intention of obtaining citizenship (Article 14(2)).\n",
      "3. By order of the High Court: A Kenyan citizen can have their citizenship revoked by an order of the High Court on grounds of dual citizenship, or where the person has been convicted of a serious crime and the High Court so orders (Article 14(3) and (4)).\n",
      "\n",
      "It's worth noting that the Constitution of Kenya, 2010, emphasizes that a Kenyan citizen cannot lose their citizenship except as provided for in the Constitution.\n"
     ]
    }
   ],
   "source": [
    "ask(\"Under what circumstances can a Kenyan citizen lose or have their citizenship revoked according to the Constitution of Kenya, 2010??\")"
   ]
  },
  {
   "cell_type": "code",
   "execution_count": 15,
   "id": "063e1e51",
   "metadata": {},
   "outputs": [
    {
     "name": "stdout",
     "output_type": "stream",
     "text": [
      "* Running on local URL:  http://127.0.0.1:7860\n",
      "* To create a public link, set `share=True` in `launch()`.\n"
     ]
    },
    {
     "data": {
      "text/html": [
       "<div><iframe src=\"http://127.0.0.1:7860/\" width=\"100%\" height=\"500\" allow=\"autoplay; camera; microphone; clipboard-read; clipboard-write;\" frameborder=\"0\" allowfullscreen></iframe></div>"
      ],
      "text/plain": [
       "<IPython.core.display.HTML object>"
      ]
     },
     "metadata": {},
     "output_type": "display_data"
    }
   ],
   "source": [
    "def gradio_interface(query: str):\n",
    "    answer = rag_app.run(query)\n",
    "    return (answer\n",
    "    )\n",
    "\n",
    "# Build the Gradio app\n",
    "gui = gr.Interface(\n",
    "    fn=gradio_interface,\n",
    "    theme='Yntec/HaleyCH_Theme_Orange_Green',\n",
    "    inputs=gr.Textbox(lines=2, placeholder=\"Enter your query here...\"),\n",
    "    outputs=gr.Markdown(),\n",
    "    title=\"Kenyan Constitution RAG\",\n",
    "    description=\"Provide a query and receive a response based on the Kenyan Constitution\",\n",
    ")\n",
    "\n",
    "# Launch the app\n",
    "if __name__ == \"__main__\":\n",
    "    gui.launch()"
   ]
  }
 ],
 "metadata": {
  "kernelspec": {
   "display_name": "base",
   "language": "python",
   "name": "python3"
  },
  "language_info": {
   "codemirror_mode": {
    "name": "ipython",
    "version": 3
   },
   "file_extension": ".py",
   "mimetype": "text/x-python",
   "name": "python",
   "nbconvert_exporter": "python",
   "pygments_lexer": "ipython3",
   "version": "3.13.5"
  }
 },
 "nbformat": 4,
 "nbformat_minor": 5
}
